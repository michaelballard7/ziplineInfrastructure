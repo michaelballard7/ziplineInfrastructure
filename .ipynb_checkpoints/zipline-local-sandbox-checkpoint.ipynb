{
 "cells": [
  {
   "cell_type": "code",
   "execution_count": 1,
   "metadata": {},
   "outputs": [],
   "source": [
    "import pandas as pd\n",
    "import numpy as np\n",
    "from matplotlib import pyplot as plt\n",
    "%matplotlib inline"
   ]
  },
  {
   "cell_type": "code",
   "execution_count": 2,
   "metadata": {},
   "outputs": [],
   "source": [
    "from zipline.data.data_portal import DataPortal\n",
    "from zipline.data import bundles\n",
    "from zipline.utils.calendars import get_calendar"
   ]
  },
  {
   "cell_type": "code",
   "execution_count": 3,
   "metadata": {},
   "outputs": [],
   "source": [
    "bundle_data = bundles.load('quantopian-quandl')"
   ]
  },
  {
   "cell_type": "code",
   "execution_count": 5,
   "metadata": {},
   "outputs": [
    {
     "name": "stdout",
     "output_type": "stream",
     "text": [
      "<class 'zipline.data.bundles.core.BundleData'>\n"
     ]
    }
   ],
   "source": [
    "print(type(bundle_data))"
   ]
  },
  {
   "cell_type": "code",
   "execution_count": 6,
   "metadata": {},
   "outputs": [
    {
     "name": "stdout",
     "output_type": "stream",
     "text": [
      "2018-01-01 00:00:00+00:00\n"
     ]
    }
   ],
   "source": [
    "end_date = pd.Timestamp(\"2018-01-01\", tz=\"utc\")\n",
    "print(end_date)"
   ]
  },
  {
   "cell_type": "code",
   "execution_count": 19,
   "metadata": {},
   "outputs": [
    {
     "data": {
      "text/plain": [
       "Timestamp('1990-01-02 00:00:00+0000', tz='UTC')"
      ]
     },
     "execution_count": 19,
     "metadata": {},
     "output_type": "execute_result"
    }
   ],
   "source": [
    "# see the total amount of training data I have available\n",
    "bundle_data.equity_daily_bar_reader.first_trading_day"
   ]
  },
  {
   "cell_type": "code",
   "execution_count": 20,
   "metadata": {},
   "outputs": [],
   "source": [
    "# Establish a zipline data porttal to have access to historical data\n",
    "data_por = DataPortal(\n",
    "    asset_finder=bundle_data.asset_finder, \n",
    "    trading_calendar=get_calendar(\"NYSE\"),\n",
    "    first_trading_day=bundle_data.equity_daily_bar_reader.first_trading_day,\n",
    "    equity_daily_reader=bundle_data.equity_daily_bar_reader\n",
    ")"
   ]
  },
  {
   "cell_type": "code",
   "execution_count": 21,
   "metadata": {},
   "outputs": [],
   "source": [
    "# zipline method to find a particular asset\n",
    "TSLA = data_por.asset_finder.lookup_symbol(\"TSLA\", as_of_date=None)"
   ]
  },
  {
   "cell_type": "code",
   "execution_count": 22,
   "metadata": {},
   "outputs": [],
   "source": [
    "# a zipline method to retrieve the data history of an asset\n",
    "df = data_por.get_history_window(\n",
    "    assets =[TSLA],\n",
    "    end_dt = end_date,\n",
    "    bar_count = 31*12,\n",
    "    frequency = '1d',\n",
    "    data_frequency = 'daily',\n",
    "    field = \"open\"\n",
    ")"
   ]
  },
  {
   "cell_type": "code",
   "execution_count": 23,
   "metadata": {},
   "outputs": [
    {
     "data": {
      "text/html": [
       "<div>\n",
       "<style scoped>\n",
       "    .dataframe tbody tr th:only-of-type {\n",
       "        vertical-align: middle;\n",
       "    }\n",
       "\n",
       "    .dataframe tbody tr th {\n",
       "        vertical-align: top;\n",
       "    }\n",
       "\n",
       "    .dataframe thead th {\n",
       "        text-align: right;\n",
       "    }\n",
       "</style>\n",
       "<table border=\"1\" class=\"dataframe\">\n",
       "  <thead>\n",
       "    <tr style=\"text-align: right;\">\n",
       "      <th></th>\n",
       "      <th>Equity(2862 [TSLA])</th>\n",
       "    </tr>\n",
       "  </thead>\n",
       "  <tbody>\n",
       "    <tr>\n",
       "      <th>2016-07-13 00:00:00+00:00</th>\n",
       "      <td>225.50</td>\n",
       "    </tr>\n",
       "    <tr>\n",
       "      <th>2016-07-14 00:00:00+00:00</th>\n",
       "      <td>223.12</td>\n",
       "    </tr>\n",
       "    <tr>\n",
       "      <th>2016-07-15 00:00:00+00:00</th>\n",
       "      <td>222.52</td>\n",
       "    </tr>\n",
       "    <tr>\n",
       "      <th>2016-07-18 00:00:00+00:00</th>\n",
       "      <td>219.64</td>\n",
       "    </tr>\n",
       "    <tr>\n",
       "      <th>2016-07-19 00:00:00+00:00</th>\n",
       "      <td>225.00</td>\n",
       "    </tr>\n",
       "  </tbody>\n",
       "</table>\n",
       "</div>"
      ],
      "text/plain": [
       "                           Equity(2862 [TSLA])\n",
       "2016-07-13 00:00:00+00:00               225.50\n",
       "2016-07-14 00:00:00+00:00               223.12\n",
       "2016-07-15 00:00:00+00:00               222.52\n",
       "2016-07-18 00:00:00+00:00               219.64\n",
       "2016-07-19 00:00:00+00:00               225.00"
      ]
     },
     "execution_count": 23,
     "metadata": {},
     "output_type": "execute_result"
    }
   ],
   "source": [
    "df.head()"
   ]
  },
  {
   "cell_type": "code",
   "execution_count": 24,
   "metadata": {},
   "outputs": [
    {
     "data": {
      "text/html": [
       "<div>\n",
       "<style scoped>\n",
       "    .dataframe tbody tr th:only-of-type {\n",
       "        vertical-align: middle;\n",
       "    }\n",
       "\n",
       "    .dataframe tbody tr th {\n",
       "        vertical-align: top;\n",
       "    }\n",
       "\n",
       "    .dataframe thead th {\n",
       "        text-align: right;\n",
       "    }\n",
       "</style>\n",
       "<table border=\"1\" class=\"dataframe\">\n",
       "  <thead>\n",
       "    <tr style=\"text-align: right;\">\n",
       "      <th></th>\n",
       "      <th>Equity(2862 [TSLA])</th>\n",
       "    </tr>\n",
       "  </thead>\n",
       "  <tbody>\n",
       "    <tr>\n",
       "      <th>count</th>\n",
       "      <td>371.000000</td>\n",
       "    </tr>\n",
       "    <tr>\n",
       "      <th>mean</th>\n",
       "      <td>279.497332</td>\n",
       "    </tr>\n",
       "    <tr>\n",
       "      <th>std</th>\n",
       "      <td>61.531926</td>\n",
       "    </tr>\n",
       "    <tr>\n",
       "      <th>min</th>\n",
       "      <td>182.510000</td>\n",
       "    </tr>\n",
       "    <tr>\n",
       "      <th>25%</th>\n",
       "      <td>222.395000</td>\n",
       "    </tr>\n",
       "    <tr>\n",
       "      <th>50%</th>\n",
       "      <td>296.890000</td>\n",
       "    </tr>\n",
       "    <tr>\n",
       "      <th>75%</th>\n",
       "      <td>335.700000</td>\n",
       "    </tr>\n",
       "    <tr>\n",
       "      <th>max</th>\n",
       "      <td>386.690000</td>\n",
       "    </tr>\n",
       "  </tbody>\n",
       "</table>\n",
       "</div>"
      ],
      "text/plain": [
       "       Equity(2862 [TSLA])\n",
       "count           371.000000\n",
       "mean            279.497332\n",
       "std              61.531926\n",
       "min             182.510000\n",
       "25%             222.395000\n",
       "50%             296.890000\n",
       "75%             335.700000\n",
       "max             386.690000"
      ]
     },
     "execution_count": 24,
     "metadata": {},
     "output_type": "execute_result"
    }
   ],
   "source": [
    "# generate statistical information about the data frame to validate\n",
    "df.describe()"
   ]
  },
  {
   "cell_type": "code",
   "execution_count": 25,
   "metadata": {},
   "outputs": [],
   "source": [
    "# Data Wrangling:\n",
    "# reset the index to a datetime pandas index for more flexibility\n",
    "df.index = pd.DatetimeIndex(df.index)\n"
   ]
  },
  {
   "cell_type": "code",
   "execution_count": 26,
   "metadata": {},
   "outputs": [
    {
     "data": {
      "text/plain": [
       "Equity(2862 [TSLA])"
      ]
     },
     "execution_count": 26,
     "metadata": {},
     "output_type": "execute_result"
    }
   ],
   "source": [
    "list(df.columns)[0]"
   ]
  },
  {
   "cell_type": "code",
   "execution_count": 27,
   "metadata": {},
   "outputs": [],
   "source": [
    "# create a new columns for OHLC in df\n",
    "df['open'] = df[list(df.columns)[0]]"
   ]
  },
  {
   "cell_type": "code",
   "execution_count": 28,
   "metadata": {},
   "outputs": [
    {
     "data": {
      "text/html": [
       "<div>\n",
       "<style scoped>\n",
       "    .dataframe tbody tr th:only-of-type {\n",
       "        vertical-align: middle;\n",
       "    }\n",
       "\n",
       "    .dataframe tbody tr th {\n",
       "        vertical-align: top;\n",
       "    }\n",
       "\n",
       "    .dataframe thead th {\n",
       "        text-align: right;\n",
       "    }\n",
       "</style>\n",
       "<table border=\"1\" class=\"dataframe\">\n",
       "  <thead>\n",
       "    <tr style=\"text-align: right;\">\n",
       "      <th></th>\n",
       "      <th>Equity(2862 [TSLA])</th>\n",
       "      <th>open</th>\n",
       "    </tr>\n",
       "  </thead>\n",
       "  <tbody>\n",
       "    <tr>\n",
       "      <th>2016-07-13 00:00:00+00:00</th>\n",
       "      <td>225.50</td>\n",
       "      <td>225.50</td>\n",
       "    </tr>\n",
       "    <tr>\n",
       "      <th>2016-07-14 00:00:00+00:00</th>\n",
       "      <td>223.12</td>\n",
       "      <td>223.12</td>\n",
       "    </tr>\n",
       "    <tr>\n",
       "      <th>2016-07-15 00:00:00+00:00</th>\n",
       "      <td>222.52</td>\n",
       "      <td>222.52</td>\n",
       "    </tr>\n",
       "    <tr>\n",
       "      <th>2016-07-18 00:00:00+00:00</th>\n",
       "      <td>219.64</td>\n",
       "      <td>219.64</td>\n",
       "    </tr>\n",
       "    <tr>\n",
       "      <th>2016-07-19 00:00:00+00:00</th>\n",
       "      <td>225.00</td>\n",
       "      <td>225.00</td>\n",
       "    </tr>\n",
       "  </tbody>\n",
       "</table>\n",
       "</div>"
      ],
      "text/plain": [
       "                           Equity(2862 [TSLA])    open\n",
       "2016-07-13 00:00:00+00:00               225.50  225.50\n",
       "2016-07-14 00:00:00+00:00               223.12  223.12\n",
       "2016-07-15 00:00:00+00:00               222.52  222.52\n",
       "2016-07-18 00:00:00+00:00               219.64  219.64\n",
       "2016-07-19 00:00:00+00:00               225.00  225.00"
      ]
     },
     "execution_count": 28,
     "metadata": {},
     "output_type": "execute_result"
    }
   ],
   "source": [
    "df.head()"
   ]
  },
  {
   "cell_type": "code",
   "execution_count": 29,
   "metadata": {},
   "outputs": [],
   "source": [
    "# drop the first column\n",
    "df = df.drop(columns=[list(df.columns)[0]])"
   ]
  },
  {
   "cell_type": "code",
   "execution_count": 30,
   "metadata": {},
   "outputs": [
    {
     "data": {
      "text/html": [
       "<div>\n",
       "<style scoped>\n",
       "    .dataframe tbody tr th:only-of-type {\n",
       "        vertical-align: middle;\n",
       "    }\n",
       "\n",
       "    .dataframe tbody tr th {\n",
       "        vertical-align: top;\n",
       "    }\n",
       "\n",
       "    .dataframe thead th {\n",
       "        text-align: right;\n",
       "    }\n",
       "</style>\n",
       "<table border=\"1\" class=\"dataframe\">\n",
       "  <thead>\n",
       "    <tr style=\"text-align: right;\">\n",
       "      <th></th>\n",
       "      <th>open</th>\n",
       "    </tr>\n",
       "  </thead>\n",
       "  <tbody>\n",
       "    <tr>\n",
       "      <th>2016-07-13 00:00:00+00:00</th>\n",
       "      <td>225.50</td>\n",
       "    </tr>\n",
       "    <tr>\n",
       "      <th>2016-07-14 00:00:00+00:00</th>\n",
       "      <td>223.12</td>\n",
       "    </tr>\n",
       "    <tr>\n",
       "      <th>2016-07-15 00:00:00+00:00</th>\n",
       "      <td>222.52</td>\n",
       "    </tr>\n",
       "    <tr>\n",
       "      <th>2016-07-18 00:00:00+00:00</th>\n",
       "      <td>219.64</td>\n",
       "    </tr>\n",
       "    <tr>\n",
       "      <th>2016-07-19 00:00:00+00:00</th>\n",
       "      <td>225.00</td>\n",
       "    </tr>\n",
       "  </tbody>\n",
       "</table>\n",
       "</div>"
      ],
      "text/plain": [
       "                             open\n",
       "2016-07-13 00:00:00+00:00  225.50\n",
       "2016-07-14 00:00:00+00:00  223.12\n",
       "2016-07-15 00:00:00+00:00  222.52\n",
       "2016-07-18 00:00:00+00:00  219.64\n",
       "2016-07-19 00:00:00+00:00  225.00"
      ]
     },
     "execution_count": 30,
     "metadata": {},
     "output_type": "execute_result"
    }
   ],
   "source": [
    "df.head()"
   ]
  },
  {
   "cell_type": "code",
   "execution_count": 31,
   "metadata": {},
   "outputs": [],
   "source": [
    "# establish the close parameter for the data frame:\n",
    "df['close'] = data_por.get_history_window(\n",
    "    assets=[TSLA],\n",
    "    end_dt=end_date,\n",
    "    bar_count=31 * 12,\n",
    "    frequency='1d',\n",
    "    data_frequency='daily',\n",
    "    field=\"close\"\n",
    ")"
   ]
  },
  {
   "cell_type": "code",
   "execution_count": 32,
   "metadata": {},
   "outputs": [],
   "source": [
    "# establish the low parameter for the data frame:\n",
    "df['low'] = data_por.get_history_window(\n",
    "    assets=[TSLA],\n",
    "    end_dt=end_date,\n",
    "    bar_count=31 * 12,\n",
    "    frequency='1d',\n",
    "    data_frequency='daily',\n",
    "    field=\"low\"\n",
    ")"
   ]
  },
  {
   "cell_type": "code",
   "execution_count": 35,
   "metadata": {},
   "outputs": [],
   "source": [
    "# establish the high parameter for the data frame:\n",
    "df['high'] = data_por.get_history_window(\n",
    "    assets=[TSLA],\n",
    "    end_dt=end_date,\n",
    "    bar_count=31 * 12,\n",
    "    frequency='1d',\n",
    "    data_frequency='daily',\n",
    "    field=\"high\"\n",
    ")"
   ]
  },
  {
   "cell_type": "code",
   "execution_count": 39,
   "metadata": {},
   "outputs": [
    {
     "data": {
      "text/html": [
       "<div>\n",
       "<style scoped>\n",
       "    .dataframe tbody tr th:only-of-type {\n",
       "        vertical-align: middle;\n",
       "    }\n",
       "\n",
       "    .dataframe tbody tr th {\n",
       "        vertical-align: top;\n",
       "    }\n",
       "\n",
       "    .dataframe thead th {\n",
       "        text-align: right;\n",
       "    }\n",
       "</style>\n",
       "<table border=\"1\" class=\"dataframe\">\n",
       "  <thead>\n",
       "    <tr style=\"text-align: right;\">\n",
       "      <th></th>\n",
       "      <th>open</th>\n",
       "      <th>close</th>\n",
       "      <th>low</th>\n",
       "      <th>high</th>\n",
       "    </tr>\n",
       "  </thead>\n",
       "  <tbody>\n",
       "    <tr>\n",
       "      <th>2016-07-13 00:00:00+00:00</th>\n",
       "      <td>225.50</td>\n",
       "      <td>222.53</td>\n",
       "      <td>220.29</td>\n",
       "      <td>225.59</td>\n",
       "    </tr>\n",
       "    <tr>\n",
       "      <th>2016-07-14 00:00:00+00:00</th>\n",
       "      <td>223.12</td>\n",
       "      <td>221.53</td>\n",
       "      <td>221.05</td>\n",
       "      <td>224.94</td>\n",
       "    </tr>\n",
       "    <tr>\n",
       "      <th>2016-07-15 00:00:00+00:00</th>\n",
       "      <td>222.52</td>\n",
       "      <td>220.40</td>\n",
       "      <td>219.64</td>\n",
       "      <td>222.75</td>\n",
       "    </tr>\n",
       "    <tr>\n",
       "      <th>2016-07-18 00:00:00+00:00</th>\n",
       "      <td>219.64</td>\n",
       "      <td>226.25</td>\n",
       "      <td>218.30</td>\n",
       "      <td>227.09</td>\n",
       "    </tr>\n",
       "    <tr>\n",
       "      <th>2016-07-19 00:00:00+00:00</th>\n",
       "      <td>225.00</td>\n",
       "      <td>225.26</td>\n",
       "      <td>224.75</td>\n",
       "      <td>229.10</td>\n",
       "    </tr>\n",
       "  </tbody>\n",
       "</table>\n",
       "</div>"
      ],
      "text/plain": [
       "                             open   close     low    high\n",
       "2016-07-13 00:00:00+00:00  225.50  222.53  220.29  225.59\n",
       "2016-07-14 00:00:00+00:00  223.12  221.53  221.05  224.94\n",
       "2016-07-15 00:00:00+00:00  222.52  220.40  219.64  222.75\n",
       "2016-07-18 00:00:00+00:00  219.64  226.25  218.30  227.09\n",
       "2016-07-19 00:00:00+00:00  225.00  225.26  224.75  229.10"
      ]
     },
     "execution_count": 39,
     "metadata": {},
     "output_type": "execute_result"
    }
   ],
   "source": [
    "# check the wrangled data start date\n",
    "df.head()"
   ]
  },
  {
   "cell_type": "code",
   "execution_count": 40,
   "metadata": {},
   "outputs": [
    {
     "data": {
      "text/html": [
       "<div>\n",
       "<style scoped>\n",
       "    .dataframe tbody tr th:only-of-type {\n",
       "        vertical-align: middle;\n",
       "    }\n",
       "\n",
       "    .dataframe tbody tr th {\n",
       "        vertical-align: top;\n",
       "    }\n",
       "\n",
       "    .dataframe thead th {\n",
       "        text-align: right;\n",
       "    }\n",
       "</style>\n",
       "<table border=\"1\" class=\"dataframe\">\n",
       "  <thead>\n",
       "    <tr style=\"text-align: right;\">\n",
       "      <th></th>\n",
       "      <th>open</th>\n",
       "      <th>close</th>\n",
       "      <th>low</th>\n",
       "      <th>high</th>\n",
       "    </tr>\n",
       "  </thead>\n",
       "  <tbody>\n",
       "    <tr>\n",
       "      <th>2017-12-26 00:00:00+00:00</th>\n",
       "      <td>323.83</td>\n",
       "      <td>317.29</td>\n",
       "      <td>316.58</td>\n",
       "      <td>323.94</td>\n",
       "    </tr>\n",
       "    <tr>\n",
       "      <th>2017-12-27 00:00:00+00:00</th>\n",
       "      <td>316.00</td>\n",
       "      <td>311.64</td>\n",
       "      <td>310.75</td>\n",
       "      <td>317.68</td>\n",
       "    </tr>\n",
       "    <tr>\n",
       "      <th>2017-12-28 00:00:00+00:00</th>\n",
       "      <td>311.75</td>\n",
       "      <td>315.36</td>\n",
       "      <td>309.54</td>\n",
       "      <td>315.82</td>\n",
       "    </tr>\n",
       "    <tr>\n",
       "      <th>2017-12-29 00:00:00+00:00</th>\n",
       "      <td>316.18</td>\n",
       "      <td>311.35</td>\n",
       "      <td>310.00</td>\n",
       "      <td>316.41</td>\n",
       "    </tr>\n",
       "    <tr>\n",
       "      <th>2018-01-02 00:00:00+00:00</th>\n",
       "      <td>312.00</td>\n",
       "      <td>320.53</td>\n",
       "      <td>311.00</td>\n",
       "      <td>322.11</td>\n",
       "    </tr>\n",
       "  </tbody>\n",
       "</table>\n",
       "</div>"
      ],
      "text/plain": [
       "                             open   close     low    high\n",
       "2017-12-26 00:00:00+00:00  323.83  317.29  316.58  323.94\n",
       "2017-12-27 00:00:00+00:00  316.00  311.64  310.75  317.68\n",
       "2017-12-28 00:00:00+00:00  311.75  315.36  309.54  315.82\n",
       "2017-12-29 00:00:00+00:00  316.18  311.35  310.00  316.41\n",
       "2018-01-02 00:00:00+00:00  312.00  320.53  311.00  322.11"
      ]
     },
     "execution_count": 40,
     "metadata": {},
     "output_type": "execute_result"
    }
   ],
   "source": [
    "# check the wrangled data end date\n",
    "df.tail()"
   ]
  },
  {
   "cell_type": "code",
   "execution_count": 42,
   "metadata": {},
   "outputs": [
    {
     "name": "stdout",
     "output_type": "stream",
     "text": [
      "frozenset({'close', 'high', 'open', 'volume', 'low'})\n"
     ]
    }
   ],
   "source": [
    "# inspect the feild of the dataportal object\n",
    "from zipline.data.data_portal import OHLCV_FIELDS\n",
    "print(OHLCV_FIELDS)"
   ]
  },
  {
   "cell_type": "markdown",
   "metadata": {},
   "source": [
    "### Data Visualization"
   ]
  },
  {
   "cell_type": "code",
   "execution_count": 49,
   "metadata": {},
   "outputs": [
    {
     "data": {
      "image/png": "[encoded data removed]",
      "text/plain": [
       "<Figure size 1152x576 with 1 Axes>"
      ]
     },
     "metadata": {
      "needs_background": "light"
     },
     "output_type": "display_data"
    }
   ],
   "source": [
    "from matplotlib.dates import MonthLocator, date2num, DateFormatter\n",
    "\n",
    "# intialize the subplots\n",
    "fig, ax = plt.subplots()\n",
    "\n",
    "# add spacing to the bottom of the plot\n",
    "fig.subplots_adjust(bottom=0.3)\n",
    "\n",
    "# set the plot width and height to 16 by 8 inches, typical aspect ratio\n",
    "fig.set_figwidth(16)\n",
    "fig.set_figheight(8)\n",
    "\n",
    "# Plot the open and close prices\n",
    "ax.plot(df.index, df.open)\n",
    "ax.plot(df.index, df.close)\n",
    "ax.plot(df.index, df.high)\n",
    "\n",
    "# locate date and format them to 3 letters\n",
    "lctr = MonthLocator() # locates every month\n",
    "frmt = DateFormatter('%b') #b gives Jan, Feb....\n",
    "\n",
    "ax.xaxis.set_major_locator(lctr)\n",
    "ax.xaxis.set_major_formatter(frmt)\n",
    "\n",
    "# plot the legend\n",
    "ax.legend()\n",
    "\n",
    "# rotate axis label\n",
    "plt.xticks(rotation=70)\n",
    "# fit the plots to the figure area\n",
    "plt.tight_layout()\n",
    "plt.show();"
   ]
  },
  {
   "cell_type": "code",
   "execution_count": 50,
   "metadata": {},
   "outputs": [
    {
     "ename": "ImportError",
     "evalue": "No module named 'mpl_finance'",
     "output_type": "error",
     "traceback": [
      "\u001b[0;31m---------------------------------------------------------------------------\u001b[0m",
      "\u001b[0;31mImportError\u001b[0m                               Traceback (most recent call last)",
      "\u001b[0;32m<ipython-input-50-d53dc69f921e>\u001b[0m in \u001b[0;36m<module>\u001b[0;34m()\u001b[0m\n\u001b[1;32m      1\u001b[0m \u001b[0;31m# I can also visualize with candle stick charts\u001b[0m\u001b[0;34m\u001b[0m\u001b[0;34m\u001b[0m\u001b[0m\n\u001b[0;32m----> 2\u001b[0;31m \u001b[0;32mfrom\u001b[0m \u001b[0mmpl_finance\u001b[0m \u001b[0;32mimport\u001b[0m \u001b[0mcandlestick2_ohlc\u001b[0m\u001b[0;34m\u001b[0m\u001b[0m\n\u001b[0m",
      "\u001b[0;31mImportError\u001b[0m: No module named 'mpl_finance'"
     ]
    }
   ],
   "source": [
    "# I can also visualize with candle stick charts\n",
    "from mpl_finance import candlestick2_ohlc"
   ]
  },
  {
   "cell_type": "code",
   "execution_count": null,
   "metadata": {},
   "outputs": [],
   "source": []
  }
 ],
 "metadata": {
  "kernelspec": {
   "display_name": "Python 3",
   "language": "python",
   "name": "python3"
  },
  "language_info": {
   "codemirror_mode": {
    "name": "ipython",
    "version": 3
   },
   "file_extension": ".py",
   "mimetype": "text/x-python",
   "name": "python",
   "nbconvert_exporter": "python",
   "pygments_lexer": "ipython3",
   "version": "3.5.6"
  }
 },
 "nbformat": 4,
 "nbformat_minor": 2
}
